{
 "cells": [
  {
   "cell_type": "markdown",
   "id": "7966b821-a770-4f8b-aa54-efab2511f237",
   "metadata": {},
   "source": [
    "# Purpose: Evaluating Kaggle.com's restaurant tip dataset\n",
    "\n",
    "__Analysis: Measure the predictive power of the dataset's variables on the tip percentage of the bill.__\n",
    "\n",
    "_Note: We won't measure the obvious predictive power of the bill to the tip dollar amount, but instead see if the other variables have any utility._"
   ]
  },
  {
   "cell_type": "code",
   "execution_count": 1,
   "id": "c9715a07-037c-4325-b8ca-ed6b31ca7128",
   "metadata": {},
   "outputs": [],
   "source": [
    "# load required modules\n",
    "\n",
    "import pandas as pd\n",
    "import matplotlib as mpl\n",
    "import matplotlib.pyplot as plt\n",
    "import datetime as dt\n",
    "import numpy as np\n",
    "from scipy import stats\n",
    "import seaborn as sns\n",
    "from sklearn.model_selection import train_test_split\n",
    "from sklearn.naive_bayes import GaussianNB\n",
    "from sklearn.metrics import accuracy_score\n",
    "from scipy.stats import norm\n",
    "from sklearn.linear_model import LinearRegression\n",
    "from sklearn.metrics import mean_squared_error, mean_absolute_error, r2_score\n",
    "\n",
    "pd.options.mode.chained_assignment = None  # default='warn'"
   ]
  },
  {
   "cell_type": "code",
   "execution_count": 2,
   "id": "d504a1c8-6d88-4412-ade2-c37664f7ff82",
   "metadata": {},
   "outputs": [],
   "source": [
    "#load the dataset\n",
    "tips = pd.read_csv('tips.csv', low_memory=False)"
   ]
  },
  {
   "cell_type": "markdown",
   "id": "2dddb146-3d30-4a92-a96a-b34973b5bf49",
   "metadata": {},
   "source": [
    "__Exploratory Data Analysis:__"
   ]
  },
  {
   "cell_type": "code",
   "execution_count": 3,
   "id": "74ff21e4-2511-4544-b22f-fe1616253733",
   "metadata": {},
   "outputs": [
    {
     "data": {
      "text/html": [
       "<div>\n",
       "<style scoped>\n",
       "    .dataframe tbody tr th:only-of-type {\n",
       "        vertical-align: middle;\n",
       "    }\n",
       "\n",
       "    .dataframe tbody tr th {\n",
       "        vertical-align: top;\n",
       "    }\n",
       "\n",
       "    .dataframe thead th {\n",
       "        text-align: right;\n",
       "    }\n",
       "</style>\n",
       "<table border=\"1\" class=\"dataframe\">\n",
       "  <thead>\n",
       "    <tr style=\"text-align: right;\">\n",
       "      <th></th>\n",
       "      <th>total_bill</th>\n",
       "      <th>tip</th>\n",
       "      <th>sex</th>\n",
       "      <th>smoker</th>\n",
       "      <th>day</th>\n",
       "      <th>time</th>\n",
       "      <th>size</th>\n",
       "    </tr>\n",
       "  </thead>\n",
       "  <tbody>\n",
       "    <tr>\n",
       "      <th>0</th>\n",
       "      <td>16.99</td>\n",
       "      <td>1.01</td>\n",
       "      <td>Female</td>\n",
       "      <td>No</td>\n",
       "      <td>Sun</td>\n",
       "      <td>Dinner</td>\n",
       "      <td>2</td>\n",
       "    </tr>\n",
       "    <tr>\n",
       "      <th>1</th>\n",
       "      <td>10.34</td>\n",
       "      <td>1.66</td>\n",
       "      <td>Male</td>\n",
       "      <td>No</td>\n",
       "      <td>Sun</td>\n",
       "      <td>Dinner</td>\n",
       "      <td>3</td>\n",
       "    </tr>\n",
       "    <tr>\n",
       "      <th>2</th>\n",
       "      <td>21.01</td>\n",
       "      <td>3.50</td>\n",
       "      <td>Male</td>\n",
       "      <td>No</td>\n",
       "      <td>Sun</td>\n",
       "      <td>Dinner</td>\n",
       "      <td>3</td>\n",
       "    </tr>\n",
       "    <tr>\n",
       "      <th>3</th>\n",
       "      <td>23.68</td>\n",
       "      <td>3.31</td>\n",
       "      <td>Male</td>\n",
       "      <td>No</td>\n",
       "      <td>Sun</td>\n",
       "      <td>Dinner</td>\n",
       "      <td>2</td>\n",
       "    </tr>\n",
       "    <tr>\n",
       "      <th>4</th>\n",
       "      <td>24.59</td>\n",
       "      <td>3.61</td>\n",
       "      <td>Female</td>\n",
       "      <td>No</td>\n",
       "      <td>Sun</td>\n",
       "      <td>Dinner</td>\n",
       "      <td>4</td>\n",
       "    </tr>\n",
       "  </tbody>\n",
       "</table>\n",
       "</div>"
      ],
      "text/plain": [
       "   total_bill   tip     sex smoker  day    time  size\n",
       "0       16.99  1.01  Female     No  Sun  Dinner     2\n",
       "1       10.34  1.66    Male     No  Sun  Dinner     3\n",
       "2       21.01  3.50    Male     No  Sun  Dinner     3\n",
       "3       23.68  3.31    Male     No  Sun  Dinner     2\n",
       "4       24.59  3.61  Female     No  Sun  Dinner     4"
      ]
     },
     "execution_count": 3,
     "metadata": {},
     "output_type": "execute_result"
    }
   ],
   "source": [
    "tips.head()"
   ]
  },
  {
   "cell_type": "code",
   "execution_count": 4,
   "id": "6e038b17-019f-4437-b2df-bac7ce05c76a",
   "metadata": {},
   "outputs": [
    {
     "data": {
      "text/html": [
       "<div>\n",
       "<style scoped>\n",
       "    .dataframe tbody tr th:only-of-type {\n",
       "        vertical-align: middle;\n",
       "    }\n",
       "\n",
       "    .dataframe tbody tr th {\n",
       "        vertical-align: top;\n",
       "    }\n",
       "\n",
       "    .dataframe thead th {\n",
       "        text-align: right;\n",
       "    }\n",
       "</style>\n",
       "<table border=\"1\" class=\"dataframe\">\n",
       "  <thead>\n",
       "    <tr style=\"text-align: right;\">\n",
       "      <th></th>\n",
       "      <th>total_bill</th>\n",
       "      <th>tip</th>\n",
       "      <th>sex</th>\n",
       "      <th>smoker</th>\n",
       "      <th>day</th>\n",
       "      <th>time</th>\n",
       "      <th>size</th>\n",
       "    </tr>\n",
       "  </thead>\n",
       "  <tbody>\n",
       "    <tr>\n",
       "      <th>count</th>\n",
       "      <td>244.000000</td>\n",
       "      <td>244.000000</td>\n",
       "      <td>244</td>\n",
       "      <td>244</td>\n",
       "      <td>244</td>\n",
       "      <td>244</td>\n",
       "      <td>244.000000</td>\n",
       "    </tr>\n",
       "    <tr>\n",
       "      <th>unique</th>\n",
       "      <td>NaN</td>\n",
       "      <td>NaN</td>\n",
       "      <td>2</td>\n",
       "      <td>2</td>\n",
       "      <td>4</td>\n",
       "      <td>2</td>\n",
       "      <td>NaN</td>\n",
       "    </tr>\n",
       "    <tr>\n",
       "      <th>top</th>\n",
       "      <td>NaN</td>\n",
       "      <td>NaN</td>\n",
       "      <td>Male</td>\n",
       "      <td>No</td>\n",
       "      <td>Sat</td>\n",
       "      <td>Dinner</td>\n",
       "      <td>NaN</td>\n",
       "    </tr>\n",
       "    <tr>\n",
       "      <th>freq</th>\n",
       "      <td>NaN</td>\n",
       "      <td>NaN</td>\n",
       "      <td>157</td>\n",
       "      <td>151</td>\n",
       "      <td>87</td>\n",
       "      <td>176</td>\n",
       "      <td>NaN</td>\n",
       "    </tr>\n",
       "    <tr>\n",
       "      <th>mean</th>\n",
       "      <td>19.785943</td>\n",
       "      <td>2.998279</td>\n",
       "      <td>NaN</td>\n",
       "      <td>NaN</td>\n",
       "      <td>NaN</td>\n",
       "      <td>NaN</td>\n",
       "      <td>2.569672</td>\n",
       "    </tr>\n",
       "    <tr>\n",
       "      <th>std</th>\n",
       "      <td>8.902412</td>\n",
       "      <td>1.383638</td>\n",
       "      <td>NaN</td>\n",
       "      <td>NaN</td>\n",
       "      <td>NaN</td>\n",
       "      <td>NaN</td>\n",
       "      <td>0.951100</td>\n",
       "    </tr>\n",
       "    <tr>\n",
       "      <th>min</th>\n",
       "      <td>3.070000</td>\n",
       "      <td>1.000000</td>\n",
       "      <td>NaN</td>\n",
       "      <td>NaN</td>\n",
       "      <td>NaN</td>\n",
       "      <td>NaN</td>\n",
       "      <td>1.000000</td>\n",
       "    </tr>\n",
       "    <tr>\n",
       "      <th>25%</th>\n",
       "      <td>13.347500</td>\n",
       "      <td>2.000000</td>\n",
       "      <td>NaN</td>\n",
       "      <td>NaN</td>\n",
       "      <td>NaN</td>\n",
       "      <td>NaN</td>\n",
       "      <td>2.000000</td>\n",
       "    </tr>\n",
       "    <tr>\n",
       "      <th>50%</th>\n",
       "      <td>17.795000</td>\n",
       "      <td>2.900000</td>\n",
       "      <td>NaN</td>\n",
       "      <td>NaN</td>\n",
       "      <td>NaN</td>\n",
       "      <td>NaN</td>\n",
       "      <td>2.000000</td>\n",
       "    </tr>\n",
       "    <tr>\n",
       "      <th>75%</th>\n",
       "      <td>24.127500</td>\n",
       "      <td>3.562500</td>\n",
       "      <td>NaN</td>\n",
       "      <td>NaN</td>\n",
       "      <td>NaN</td>\n",
       "      <td>NaN</td>\n",
       "      <td>3.000000</td>\n",
       "    </tr>\n",
       "    <tr>\n",
       "      <th>max</th>\n",
       "      <td>50.810000</td>\n",
       "      <td>10.000000</td>\n",
       "      <td>NaN</td>\n",
       "      <td>NaN</td>\n",
       "      <td>NaN</td>\n",
       "      <td>NaN</td>\n",
       "      <td>6.000000</td>\n",
       "    </tr>\n",
       "  </tbody>\n",
       "</table>\n",
       "</div>"
      ],
      "text/plain": [
       "        total_bill         tip   sex smoker  day    time        size\n",
       "count   244.000000  244.000000   244    244  244     244  244.000000\n",
       "unique         NaN         NaN     2      2    4       2         NaN\n",
       "top            NaN         NaN  Male     No  Sat  Dinner         NaN\n",
       "freq           NaN         NaN   157    151   87     176         NaN\n",
       "mean     19.785943    2.998279   NaN    NaN  NaN     NaN    2.569672\n",
       "std       8.902412    1.383638   NaN    NaN  NaN     NaN    0.951100\n",
       "min       3.070000    1.000000   NaN    NaN  NaN     NaN    1.000000\n",
       "25%      13.347500    2.000000   NaN    NaN  NaN     NaN    2.000000\n",
       "50%      17.795000    2.900000   NaN    NaN  NaN     NaN    2.000000\n",
       "75%      24.127500    3.562500   NaN    NaN  NaN     NaN    3.000000\n",
       "max      50.810000   10.000000   NaN    NaN  NaN     NaN    6.000000"
      ]
     },
     "execution_count": 4,
     "metadata": {},
     "output_type": "execute_result"
    }
   ],
   "source": [
    "tips.describe(include='all')"
   ]
  },
  {
   "cell_type": "code",
   "execution_count": 5,
   "id": "af0c8c61-18cd-40e0-acda-fd0172acb33e",
   "metadata": {},
   "outputs": [
    {
     "data": {
      "text/plain": [
       "size\n",
       "2    156\n",
       "3     38\n",
       "4     37\n",
       "5      5\n",
       "1      4\n",
       "6      4\n",
       "Name: count, dtype: int64"
      ]
     },
     "execution_count": 5,
     "metadata": {},
     "output_type": "execute_result"
    }
   ],
   "source": [
    "tips['size'].value_counts()"
   ]
  },
  {
   "cell_type": "code",
   "execution_count": 6,
   "id": "9f8d83ac-caf8-4162-9c9d-68b9428b07e2",
   "metadata": {},
   "outputs": [
    {
     "data": {
      "text/plain": [
       "day\n",
       "Sat     87\n",
       "Sun     76\n",
       "Thur    62\n",
       "Fri     19\n",
       "Name: count, dtype: int64"
      ]
     },
     "execution_count": 6,
     "metadata": {},
     "output_type": "execute_result"
    }
   ],
   "source": [
    "tips.day.value_counts()"
   ]
  },
  {
   "cell_type": "markdown",
   "id": "bcdac055-8ef4-4c2b-8207-5697be55f495",
   "metadata": {},
   "source": [
    "\n",
    "__Let's add variables to convert tip to percent tip, total bill to plate price, day of week to Weekday/Weekend, and group together party sizes of 4 or more.__"
   ]
  },
  {
   "cell_type": "code",
   "execution_count": 7,
   "id": "50c4eac5-251c-4df4-a829-c0a436f80a1c",
   "metadata": {},
   "outputs": [],
   "source": [
    "tips['p_tip'] = tips.tip / tips.total_bill\n",
    "tips['plate_price'] = round(tips['total_bill'] / tips['size'])\n",
    "\n",
    "def tip_bin_calc (row):\n",
    "  if row['p_tip'] < 0.12: result = 'tip < 12%'\n",
    "  elif row['p_tip'] < 0.15: result = '12% <= tip < 15%'\n",
    "  elif row['p_tip'] < 0.20: result = '15% <= tip < 20%'\n",
    "  else: result = 'tip >= 20%'\n",
    "  return result\n",
    "\n",
    "tips['tip_bin'] = tips.apply(tip_bin_calc, axis=1)\n",
    "\n",
    "def weekday_calc (row):\n",
    "  result = 'Weekday'\n",
    "  if row['day'] in ['Sat','Sun']: result = 'Weekend'\n",
    "  return result\n",
    "\n",
    "tips['weekday'] = tips.apply(weekday_calc, axis=1)\n",
    "\n",
    "def party_calc (row):\n",
    "  result = row['size']\n",
    "  if row['size'] > 4: result = 4\n",
    "  return result\n",
    "\n",
    "tips['party'] = tips.apply(party_calc, axis=1)\n",
    "\n"
   ]
  },
  {
   "cell_type": "code",
   "execution_count": 8,
   "id": "9df84c14-afda-44ff-a7c6-00d7630a6a9e",
   "metadata": {},
   "outputs": [
    {
     "data": {
      "text/plain": [
       "total_bill     float64\n",
       "tip            float64\n",
       "sex             object\n",
       "smoker          object\n",
       "day             object\n",
       "time            object\n",
       "size             int64\n",
       "p_tip          float64\n",
       "plate_price    float64\n",
       "tip_bin         object\n",
       "weekday         object\n",
       "party            int64\n",
       "dtype: object"
      ]
     },
     "execution_count": 8,
     "metadata": {},
     "output_type": "execute_result"
    }
   ],
   "source": [
    "tips.dtypes"
   ]
  },
  {
   "cell_type": "code",
   "execution_count": 9,
   "id": "59b8a26d-c4df-480b-886e-788ab581594d",
   "metadata": {},
   "outputs": [
    {
     "data": {
      "text/html": [
       "<div>\n",
       "<style scoped>\n",
       "    .dataframe tbody tr th:only-of-type {\n",
       "        vertical-align: middle;\n",
       "    }\n",
       "\n",
       "    .dataframe tbody tr th {\n",
       "        vertical-align: top;\n",
       "    }\n",
       "\n",
       "    .dataframe thead th {\n",
       "        text-align: right;\n",
       "    }\n",
       "</style>\n",
       "<table border=\"1\" class=\"dataframe\">\n",
       "  <thead>\n",
       "    <tr style=\"text-align: right;\">\n",
       "      <th></th>\n",
       "      <th>total_bill</th>\n",
       "      <th>tip</th>\n",
       "      <th>sex</th>\n",
       "      <th>smoker</th>\n",
       "      <th>day</th>\n",
       "      <th>time</th>\n",
       "      <th>size</th>\n",
       "      <th>p_tip</th>\n",
       "      <th>plate_price</th>\n",
       "      <th>tip_bin</th>\n",
       "      <th>weekday</th>\n",
       "      <th>party</th>\n",
       "    </tr>\n",
       "  </thead>\n",
       "  <tbody>\n",
       "    <tr>\n",
       "      <th>0</th>\n",
       "      <td>16.99</td>\n",
       "      <td>1.01</td>\n",
       "      <td>Female</td>\n",
       "      <td>No</td>\n",
       "      <td>Sun</td>\n",
       "      <td>Dinner</td>\n",
       "      <td>2</td>\n",
       "      <td>0.059447</td>\n",
       "      <td>8.0</td>\n",
       "      <td>tip &lt; 12%</td>\n",
       "      <td>Weekend</td>\n",
       "      <td>2</td>\n",
       "    </tr>\n",
       "    <tr>\n",
       "      <th>1</th>\n",
       "      <td>10.34</td>\n",
       "      <td>1.66</td>\n",
       "      <td>Male</td>\n",
       "      <td>No</td>\n",
       "      <td>Sun</td>\n",
       "      <td>Dinner</td>\n",
       "      <td>3</td>\n",
       "      <td>0.160542</td>\n",
       "      <td>3.0</td>\n",
       "      <td>15% &lt;= tip &lt; 20%</td>\n",
       "      <td>Weekend</td>\n",
       "      <td>3</td>\n",
       "    </tr>\n",
       "    <tr>\n",
       "      <th>2</th>\n",
       "      <td>21.01</td>\n",
       "      <td>3.50</td>\n",
       "      <td>Male</td>\n",
       "      <td>No</td>\n",
       "      <td>Sun</td>\n",
       "      <td>Dinner</td>\n",
       "      <td>3</td>\n",
       "      <td>0.166587</td>\n",
       "      <td>7.0</td>\n",
       "      <td>15% &lt;= tip &lt; 20%</td>\n",
       "      <td>Weekend</td>\n",
       "      <td>3</td>\n",
       "    </tr>\n",
       "    <tr>\n",
       "      <th>3</th>\n",
       "      <td>23.68</td>\n",
       "      <td>3.31</td>\n",
       "      <td>Male</td>\n",
       "      <td>No</td>\n",
       "      <td>Sun</td>\n",
       "      <td>Dinner</td>\n",
       "      <td>2</td>\n",
       "      <td>0.139780</td>\n",
       "      <td>12.0</td>\n",
       "      <td>12% &lt;= tip &lt; 15%</td>\n",
       "      <td>Weekend</td>\n",
       "      <td>2</td>\n",
       "    </tr>\n",
       "    <tr>\n",
       "      <th>4</th>\n",
       "      <td>24.59</td>\n",
       "      <td>3.61</td>\n",
       "      <td>Female</td>\n",
       "      <td>No</td>\n",
       "      <td>Sun</td>\n",
       "      <td>Dinner</td>\n",
       "      <td>4</td>\n",
       "      <td>0.146808</td>\n",
       "      <td>6.0</td>\n",
       "      <td>12% &lt;= tip &lt; 15%</td>\n",
       "      <td>Weekend</td>\n",
       "      <td>4</td>\n",
       "    </tr>\n",
       "  </tbody>\n",
       "</table>\n",
       "</div>"
      ],
      "text/plain": [
       "   total_bill   tip     sex smoker  day    time  size     p_tip  plate_price  \\\n",
       "0       16.99  1.01  Female     No  Sun  Dinner     2  0.059447          8.0   \n",
       "1       10.34  1.66    Male     No  Sun  Dinner     3  0.160542          3.0   \n",
       "2       21.01  3.50    Male     No  Sun  Dinner     3  0.166587          7.0   \n",
       "3       23.68  3.31    Male     No  Sun  Dinner     2  0.139780         12.0   \n",
       "4       24.59  3.61  Female     No  Sun  Dinner     4  0.146808          6.0   \n",
       "\n",
       "            tip_bin  weekday  party  \n",
       "0         tip < 12%  Weekend      2  \n",
       "1  15% <= tip < 20%  Weekend      3  \n",
       "2  15% <= tip < 20%  Weekend      3  \n",
       "3  12% <= tip < 15%  Weekend      2  \n",
       "4  12% <= tip < 15%  Weekend      4  "
      ]
     },
     "execution_count": 9,
     "metadata": {},
     "output_type": "execute_result"
    }
   ],
   "source": [
    "tips.head()"
   ]
  },
  {
   "cell_type": "code",
   "execution_count": 10,
   "id": "5bd8350e-9e59-4e68-9b51-fa290439ec7d",
   "metadata": {},
   "outputs": [
    {
     "data": {
      "image/png": "[encoded data removed]",
      "text/plain": [
       "<Figure size 640x480 with 1 Axes>"
      ]
     },
     "metadata": {},
     "output_type": "display_data"
    },
    {
     "data": {
      "text/plain": [
       "<Figure size 640x480 with 0 Axes>"
      ]
     },
     "metadata": {},
     "output_type": "display_data"
    }
   ],
   "source": [
    "plt.clf()\n",
    "sns.histplot(tips.p_tip, stat='density')\n",
    "\n",
    "plt.show()\n",
    "plt.clf()"
   ]
  },
  {
   "cell_type": "code",
   "execution_count": 11,
   "id": "c4aae1fb-d1c3-4371-ac4d-0f7934923426",
   "metadata": {},
   "outputs": [
    {
     "name": "stdout",
     "output_type": "stream",
     "text": [
      "mean tip %: 16.08 tip % standard deviation 0.061\n"
     ]
    }
   ],
   "source": [
    "mean_tip = np.mean(tips.p_tip)\n",
    "stdev_tip = np.std(tips.p_tip)\n",
    "print('mean tip %:',round(mean_tip*100,2), 'tip % standard deviation',round(stdev_tip,3))"
   ]
  },
  {
   "cell_type": "code",
   "execution_count": 12,
   "id": "6e14af25-9e19-4dde-be55-6cd616a60737",
   "metadata": {},
   "outputs": [],
   "source": [
    "tip_sum = tips.groupby(['sex','smoker','time','party','plate_price','weekday'], group_keys=False).p_tip.mean().reset_index()"
   ]
  },
  {
   "cell_type": "code",
   "execution_count": 13,
   "id": "d1e8f59d-52ae-425d-8513-f0ff697a5938",
   "metadata": {},
   "outputs": [
    {
     "data": {
      "text/html": [
       "<div>\n",
       "<style scoped>\n",
       "    .dataframe tbody tr th:only-of-type {\n",
       "        vertical-align: middle;\n",
       "    }\n",
       "\n",
       "    .dataframe tbody tr th {\n",
       "        vertical-align: top;\n",
       "    }\n",
       "\n",
       "    .dataframe thead th {\n",
       "        text-align: right;\n",
       "    }\n",
       "</style>\n",
       "<table border=\"1\" class=\"dataframe\">\n",
       "  <thead>\n",
       "    <tr style=\"text-align: right;\">\n",
       "      <th></th>\n",
       "      <th>sex</th>\n",
       "      <th>smoker</th>\n",
       "      <th>time</th>\n",
       "      <th>party</th>\n",
       "      <th>plate_price</th>\n",
       "      <th>weekday</th>\n",
       "      <th>p_tip</th>\n",
       "    </tr>\n",
       "  </thead>\n",
       "  <tbody>\n",
       "    <tr>\n",
       "      <th>0</th>\n",
       "      <td>Female</td>\n",
       "      <td>No</td>\n",
       "      <td>Dinner</td>\n",
       "      <td>1</td>\n",
       "      <td>7.0</td>\n",
       "      <td>Weekend</td>\n",
       "      <td>0.137931</td>\n",
       "    </tr>\n",
       "    <tr>\n",
       "      <th>1</th>\n",
       "      <td>Female</td>\n",
       "      <td>No</td>\n",
       "      <td>Dinner</td>\n",
       "      <td>2</td>\n",
       "      <td>5.0</td>\n",
       "      <td>Weekend</td>\n",
       "      <td>0.252672</td>\n",
       "    </tr>\n",
       "    <tr>\n",
       "      <th>2</th>\n",
       "      <td>Female</td>\n",
       "      <td>No</td>\n",
       "      <td>Dinner</td>\n",
       "      <td>2</td>\n",
       "      <td>7.0</td>\n",
       "      <td>Weekend</td>\n",
       "      <td>0.182639</td>\n",
       "    </tr>\n",
       "    <tr>\n",
       "      <th>3</th>\n",
       "      <td>Female</td>\n",
       "      <td>No</td>\n",
       "      <td>Dinner</td>\n",
       "      <td>2</td>\n",
       "      <td>8.0</td>\n",
       "      <td>Weekend</td>\n",
       "      <td>0.137552</td>\n",
       "    </tr>\n",
       "    <tr>\n",
       "      <th>4</th>\n",
       "      <td>Female</td>\n",
       "      <td>No</td>\n",
       "      <td>Dinner</td>\n",
       "      <td>2</td>\n",
       "      <td>9.0</td>\n",
       "      <td>Weekday</td>\n",
       "      <td>0.159744</td>\n",
       "    </tr>\n",
       "  </tbody>\n",
       "</table>\n",
       "</div>"
      ],
      "text/plain": [
       "      sex smoker    time  party  plate_price  weekday     p_tip\n",
       "0  Female     No  Dinner      1          7.0  Weekend  0.137931\n",
       "1  Female     No  Dinner      2          5.0  Weekend  0.252672\n",
       "2  Female     No  Dinner      2          7.0  Weekend  0.182639\n",
       "3  Female     No  Dinner      2          8.0  Weekend  0.137552\n",
       "4  Female     No  Dinner      2          9.0  Weekday  0.159744"
      ]
     },
     "execution_count": 13,
     "metadata": {},
     "output_type": "execute_result"
    }
   ],
   "source": [
    "tip_sum.head()"
   ]
  },
  {
   "cell_type": "code",
   "execution_count": 14,
   "id": "97783791-aa8c-46f2-b928-1a9731b0bb3c",
   "metadata": {},
   "outputs": [
    {
     "data": {
      "image/png": "[encoded data removed]",
      "text/plain": [
       "<Figure size 640x480 with 1 Axes>"
      ]
     },
     "metadata": {},
     "output_type": "display_data"
    }
   ],
   "source": [
    "sns.boxplot(x = 'weekday', y = 'p_tip', hue='sex', palette = 'pastel', data = tip_sum)\n",
    "plt.show()"
   ]
  },
  {
   "cell_type": "code",
   "execution_count": 15,
   "id": "01b365a3-8b82-4128-8ab0-4491134ca35f",
   "metadata": {},
   "outputs": [
    {
     "data": {
      "image/png": "[encoded data removed]",
      "text/plain": [
       "<Figure size 640x480 with 1 Axes>"
      ]
     },
     "metadata": {},
     "output_type": "display_data"
    }
   ],
   "source": [
    "sns.boxplot(x = 'party', y = 'p_tip', hue='smoker', palette = 'cubehelix', data = tip_sum)\n",
    "plt.show()"
   ]
  },
  {
   "cell_type": "code",
   "execution_count": 16,
   "id": "baf068bc-de78-4a64-82b7-f22df0270bd3",
   "metadata": {},
   "outputs": [
    {
     "data": {
      "image/png": "[encoded data removed]",
      "text/plain": [
       "<Figure size 640x480 with 1 Axes>"
      ]
     },
     "metadata": {},
     "output_type": "display_data"
    }
   ],
   "source": [
    "sns.boxplot(x = 'party', y = 'p_tip', hue='weekday', palette = 'pastel', data = tip_sum)\n",
    "plt.show()"
   ]
  },
  {
   "cell_type": "markdown",
   "id": "d3895252-1082-48eb-9e9c-a742a1f9dea1",
   "metadata": {},
   "source": [
    "__Let's convert the categorical data into numbers to prepare for processing. We'll create both an array of tip categories (tip_bins) for Bayesian analysis, and an array of tip percentages (p_tips) for a linear regression.__"
   ]
  },
  {
   "cell_type": "code",
   "execution_count": 17,
   "id": "c4d7becd-5de2-4930-a695-41a63833ff9e",
   "metadata": {},
   "outputs": [],
   "source": [
    "tips_nums = tips\n",
    "\n",
    "sex_nums = []\n",
    "smoker_nums = []\n",
    "time_nums = []\n",
    "weekday_nums = []\n",
    "p_tips = []\n",
    "tip_bins = []\n",
    "column_names = ['sex','smoker','time','party','plate_price','weekday']\n",
    "\n",
    "\n",
    "for ind, row in tips_nums.iterrows():\n",
    "    if row['sex'] == 'Female': sex_nums.append(0)\n",
    "    else: sex_nums.append(1)\n",
    "\n",
    "    if row['smoker'] == 'No': smoker_nums.append(0)\n",
    "    else: smoker_nums.append(1)\n",
    "\n",
    "    if row['time'] == 'Lunch': time_nums.append(0)\n",
    "    else: time_nums.append(1)\n",
    "\n",
    "    if row['weekday'] == 'Weekday': weekday_nums.append(0)\n",
    "    else: weekday_nums.append(1)\n",
    "\n",
    "    p_tips.append(round(row['p_tip']*100))\n",
    "    tip_bins.append(row['tip_bin'])\n",
    "\n",
    "tips_nums['sex'] = sex_nums\n",
    "tips_nums['smoker'] = smoker_nums\n",
    "tips_nums['time'] = time_nums\n",
    "tips_nums['weekday'] = weekday_nums\n",
    "\n",
    "tips_nums = tips_nums[column_names]\n"
   ]
  },
  {
   "cell_type": "code",
   "execution_count": 18,
   "id": "1f5cee03-f368-45f1-97fa-b9b13fa39571",
   "metadata": {},
   "outputs": [
    {
     "data": {
      "text/html": [
       "<div>\n",
       "<style scoped>\n",
       "    .dataframe tbody tr th:only-of-type {\n",
       "        vertical-align: middle;\n",
       "    }\n",
       "\n",
       "    .dataframe tbody tr th {\n",
       "        vertical-align: top;\n",
       "    }\n",
       "\n",
       "    .dataframe thead th {\n",
       "        text-align: right;\n",
       "    }\n",
       "</style>\n",
       "<table border=\"1\" class=\"dataframe\">\n",
       "  <thead>\n",
       "    <tr style=\"text-align: right;\">\n",
       "      <th></th>\n",
       "      <th>sex</th>\n",
       "      <th>smoker</th>\n",
       "      <th>time</th>\n",
       "      <th>party</th>\n",
       "      <th>plate_price</th>\n",
       "      <th>weekday</th>\n",
       "    </tr>\n",
       "  </thead>\n",
       "  <tbody>\n",
       "    <tr>\n",
       "      <th>0</th>\n",
       "      <td>0</td>\n",
       "      <td>0</td>\n",
       "      <td>1</td>\n",
       "      <td>2</td>\n",
       "      <td>8.0</td>\n",
       "      <td>1</td>\n",
       "    </tr>\n",
       "    <tr>\n",
       "      <th>1</th>\n",
       "      <td>1</td>\n",
       "      <td>0</td>\n",
       "      <td>1</td>\n",
       "      <td>3</td>\n",
       "      <td>3.0</td>\n",
       "      <td>1</td>\n",
       "    </tr>\n",
       "    <tr>\n",
       "      <th>2</th>\n",
       "      <td>1</td>\n",
       "      <td>0</td>\n",
       "      <td>1</td>\n",
       "      <td>3</td>\n",
       "      <td>7.0</td>\n",
       "      <td>1</td>\n",
       "    </tr>\n",
       "    <tr>\n",
       "      <th>3</th>\n",
       "      <td>1</td>\n",
       "      <td>0</td>\n",
       "      <td>1</td>\n",
       "      <td>2</td>\n",
       "      <td>12.0</td>\n",
       "      <td>1</td>\n",
       "    </tr>\n",
       "    <tr>\n",
       "      <th>4</th>\n",
       "      <td>0</td>\n",
       "      <td>0</td>\n",
       "      <td>1</td>\n",
       "      <td>4</td>\n",
       "      <td>6.0</td>\n",
       "      <td>1</td>\n",
       "    </tr>\n",
       "  </tbody>\n",
       "</table>\n",
       "</div>"
      ],
      "text/plain": [
       "   sex  smoker  time  party  plate_price  weekday\n",
       "0    0       0     1      2          8.0        1\n",
       "1    1       0     1      3          3.0        1\n",
       "2    1       0     1      3          7.0        1\n",
       "3    1       0     1      2         12.0        1\n",
       "4    0       0     1      4          6.0        1"
      ]
     },
     "execution_count": 18,
     "metadata": {},
     "output_type": "execute_result"
    }
   ],
   "source": [
    "tips_nums.head()"
   ]
  },
  {
   "cell_type": "markdown",
   "id": "58691d8c-3d98-4628-a735-54adb2668ac7",
   "metadata": {},
   "source": [
    "__Now Let's apply a Naive Bayes classifier to predict the tip category:__"
   ]
  },
  {
   "cell_type": "code",
   "execution_count": 19,
   "id": "95d1c8e8-b164-40a3-be7f-e93464adbd6a",
   "metadata": {},
   "outputs": [],
   "source": [
    "x_train, x_test, y_train, y_test = train_test_split(tips_nums, tip_bins, test_size=0.33, random_state = 44)"
   ]
  },
  {
   "cell_type": "code",
   "execution_count": 20,
   "id": "8af43d8f-4ec2-4c59-8e48-1b30bfffd1b7",
   "metadata": {},
   "outputs": [],
   "source": [
    "#Convert pandas dataframes into numpy arrays (it is needed for the fitting)\n",
    "x_train = np.array(x_train)\n",
    "x_test = np.array(x_test)\n",
    "y_train = np.array(y_train)\n",
    "y_test = np.array(y_test)\n"
   ]
  },
  {
   "cell_type": "code",
   "execution_count": 21,
   "id": "65d9d2d7-5038-4e8a-b5a1-9dd51e4edbc9",
   "metadata": {},
   "outputs": [
    {
     "data": {
      "text/plain": [
       "(244, 6)"
      ]
     },
     "execution_count": 21,
     "metadata": {},
     "output_type": "execute_result"
    }
   ],
   "source": [
    "tips_nums.shape"
   ]
  },
  {
   "cell_type": "code",
   "execution_count": 22,
   "id": "835579e9-2740-4096-9eca-4e1d5baae241",
   "metadata": {},
   "outputs": [
    {
     "data": {
      "text/plain": [
       "(163, 6)"
      ]
     },
     "execution_count": 22,
     "metadata": {},
     "output_type": "execute_result"
    }
   ],
   "source": [
    "x_train.shape"
   ]
  },
  {
   "cell_type": "code",
   "execution_count": 23,
   "id": "887e1eb5-55ff-413e-88c4-e064596e3fe7",
   "metadata": {},
   "outputs": [
    {
     "data": {
      "text/plain": [
       "(163,)"
      ]
     },
     "execution_count": 23,
     "metadata": {},
     "output_type": "execute_result"
    }
   ],
   "source": [
    "y_train.shape"
   ]
  },
  {
   "cell_type": "code",
   "execution_count": 24,
   "id": "f23bb1e1-309f-4732-b749-38efbc1de907",
   "metadata": {},
   "outputs": [
    {
     "data": {
      "text/plain": [
       "(81, 6)"
      ]
     },
     "execution_count": 24,
     "metadata": {},
     "output_type": "execute_result"
    }
   ],
   "source": [
    "x_test.shape"
   ]
  },
  {
   "cell_type": "code",
   "execution_count": 25,
   "id": "3f770d77-f7bb-46b6-b866-bf2265ba0864",
   "metadata": {},
   "outputs": [
    {
     "data": {
      "text/plain": [
       "(81,)"
      ]
     },
     "execution_count": 25,
     "metadata": {},
     "output_type": "execute_result"
    }
   ],
   "source": [
    "y_test.shape"
   ]
  },
  {
   "cell_type": "code",
   "execution_count": 26,
   "id": "4d284dad-b31a-44e5-9f9a-c5562d007fb7",
   "metadata": {},
   "outputs": [
    {
     "name": "stdout",
     "output_type": "stream",
     "text": [
      "Accuracy: 0.37037037037037035\n"
     ]
    }
   ],
   "source": [
    "# Create a Naive Bayes classifier\n",
    "clf = GaussianNB()\n",
    "\n",
    "# Train the classifier using the training data\n",
    "clf.fit(x_train, y_train)\n",
    "\n",
    "# Make predictions on the test data\n",
    "y_pred = clf.predict(x_test)\n",
    "\n",
    "# Calculate the accuracy of the classifier\n",
    "accuracy = accuracy_score(y_test, y_pred)\n",
    "print(\"Accuracy:\", accuracy)\n"
   ]
  },
  {
   "cell_type": "markdown",
   "id": "5d17dfa4-9d52-46b4-b232-f4310a85f951",
   "metadata": {},
   "source": [
    "__That's a poor accuracy score. Let's try a Linear regression of the numeric tip percentages.__"
   ]
  },
  {
   "cell_type": "code",
   "execution_count": 27,
   "id": "12080780-e8f8-4ab4-9e52-8a5311d289d6",
   "metadata": {},
   "outputs": [
    {
     "name": "stdout",
     "output_type": "stream",
     "text": [
      "r2 -0.3016302259023178\n",
      "-0.3016302259023178\n"
     ]
    }
   ],
   "source": [
    "x_train, x_test, y_train, y_test = train_test_split(tips_nums, p_tips, test_size=0.33, random_state = 44)\n",
    "\n",
    "#Convert pandas dataframes into numpy arrays (it is needed for the fitting)\n",
    "x_train = np.array(x_train)\n",
    "x_test = np.array(x_test)\n",
    "y_train = np.array(y_train)\n",
    "y_test = np.array(y_test)\n",
    "\n",
    "#Create and fit the model\n",
    "model = LinearRegression()\n",
    "\n",
    "#Fit the model using the training data\n",
    "model.fit(x_train,y_train)\n",
    "\n",
    "#Predict unseen data\n",
    "y_predicted =model.predict(x_test)\n",
    "scores = model.score(x_test, y_test)\n",
    "r2 = r2_score(y_test, y_predicted)\n",
    "print('r2',r2)\n",
    "\n",
    "print(scores)"
   ]
  },
  {
   "cell_type": "markdown",
   "id": "ef57720a-6509-4d0e-916c-04dc1af4232f",
   "metadata": {},
   "source": [
    "__That's actually worse than just predicting the tip percentage is always 15%!__\n",
    "\n",
    "### Conclusion: Unfortunately, we've found that the dataset's meal and customer data are not predictive of the size of the tip customer's leave. ###"
   ]
  },
  {
   "cell_type": "code",
   "execution_count": null,
   "id": "4bbd713c-5de2-4c8e-9f5f-390b1b8002e5",
   "metadata": {},
   "outputs": [],
   "source": []
  }
 ],
 "metadata": {
  "kernelspec": {
   "display_name": "Python 3 (ipykernel)",
   "language": "python",
   "name": "python3"
  },
  "language_info": {
   "codemirror_mode": {
    "name": "ipython",
    "version": 3
   },
   "file_extension": ".py",
   "mimetype": "text/x-python",
   "name": "python",
   "nbconvert_exporter": "python",
   "pygments_lexer": "ipython3",
   "version": "3.12.3"
  }
 },
 "nbformat": 4,
 "nbformat_minor": 5
}
